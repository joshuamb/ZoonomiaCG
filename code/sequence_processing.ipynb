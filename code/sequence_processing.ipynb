{
  "nbformat": 4,
  "nbformat_minor": 0,
  "metadata": {
    "colab": {
      "name": "sequence_processing.ipynb",
      "provenance": []
    },
    "kernelspec": {
      "name": "python3",
      "display_name": "Python 3"
    },
    "language_info": {
      "name": "python"
    }
  },
  "cells": [
    {
      "cell_type": "code",
      "execution_count": 13,
      "metadata": {
        "id": "AOSilmrLZAXb"
      },
      "outputs": [],
      "source": [
        "import pandas as pd\n",
        "import numpy as np\n",
        "from scipy.optimize import minimize\n",
        "from scipy.optimize import Bounds\n",
        "from scipy.optimize import LinearConstraint\n",
        "from scipy.optimize import differential_evolution, shgo, dual_annealing\n",
        "from scipy.linalg import fractional_matrix_power\n",
        "import math"
      ]
    },
    {
      "cell_type": "code",
      "source": [
        "# reads in samples from multiple files\n",
        "def read_in_samples(file_names, X_column=\"Homo_sapiens\", Y_column=\"Solenodon_paradoxus\"):\n",
        "  #file_names is a list of file names\n",
        "  sequences = [] #sequences is a list of tuples of pairs of sequences [(x1,y1), (x2, y2)]\n",
        "  d = {'A': 0, 'C': 1, 'G': 2, 'T': 3, 'a': 0, 'c': 1, 'g': 2, 't': 3}\n",
        "  for file in file_names:\n",
        "    df = pd.read_table(file, sep=\" \")\n",
        "    df = df.replace({X_column: d, Y_column: d})\n",
        "    x = df[X_column].to_list()\n",
        "    y = df[Y_column].to_list()\n",
        "    sequences.append((x,y))\n",
        "  return sequences"
      ],
      "metadata": {
        "id": "V_-22IwRZDi8"
      },
      "execution_count": 14,
      "outputs": []
    },
    {
      "cell_type": "code",
      "source": [
        "def overall_log_likelihood(A, sequences):\n",
        "  # sequences is a list of tuples of pairs of **INDEPENDENT** sequences along with T\n",
        "  # sequences: [(x1, y1), (x2, y2)...] where each x and y is a list of ints\n",
        "  A = np.reshape(A, (4,4)) # This is because minimize flattens Arrays automatically \n",
        "  sum = 0 \n",
        "  for sequence in sequences:\n",
        "    for i in range(len(sequence[0])): \n",
        "      a = sequence[0][i]\n",
        "      b = sequence[1][i]\n",
        "      #print(a,b,sum)\n",
        "      sum += np.log(A[a, b])\n",
        "  return sum"
      ],
      "metadata": {
        "id": "ml1a4xiUZJ6C"
      },
      "execution_count": 15,
      "outputs": []
    },
    {
      "cell_type": "code",
      "source": [
        "lnc = read_in_samples(['https://raw.githubusercontent.com/joshuamb/ZoonomiaCG/main/lncRNA-batch101/lnc-batch101-final_sequences.txt'])\n",
        "UTR = read_in_samples(['https://raw.githubusercontent.com/joshuamb/ZoonomiaCG/main/UTR-batch10000/UTR-batch10000-final_sequences.txt'])"
      ],
      "metadata": {
        "id": "eD_gh359ZTxB"
      },
      "execution_count": 16,
      "outputs": []
    },
    {
      "cell_type": "code",
      "source": [
        "initial_guess = np.array([0.25, 0.25, 0.25, 0.25,0.25, 0.25, 0.25, 0.25,0.25, 0.25, 0.25, 0.25,0.25, 0.25, 0.25, 0.25]) \n",
        "\n",
        "#constraints that all rows must sum to 1\n",
        "newOverallLogLikelihood_UTR = lambda A: -overall_log_likelihood(A, UTR)\n",
        "newOverallLogLikelihood_lnc = lambda A: -overall_log_likelihood(A, lnc)\n",
        "lb = 1\n",
        "ub = 1\n",
        "m = np.array([[1,1,1,1,0,0,0,0,0,0,0,0,0,0,0,0],[0,0,0,0,1,1,1,1,0,0,0,0,0,0,0,0], [0,0,0,0,0,0,0,0,1,1,1,1,0,0,0,0], [0,0,0,0,0,0,0,0,0,0,0,0,1,1,1,1]])\n",
        "linear_constraint = LinearConstraint(m, 1,1)\n",
        "\n",
        "# define a constraint that all numbers need to be between 0 and 1 \n",
        "bounds = Bounds([0,0,0,0,0,0,0,0,0,0,0,0,0,0,0,0], [1,1,1,1,1,1,1,1,1,1,1,1,1,1,1,1])\n",
        "\n",
        "result_UTR = minimize(fun=newOverallLogLikelihood_UTR, x0=initial_guess, method = 'trust-constr', bounds=bounds, constraints=linear_constraint)\n",
        "result_lnc = minimize(fun=newOverallLogLikelihood_lnc, x0=initial_guess, method = 'trust-constr', bounds=bounds, constraints=linear_constraint)"
      ],
      "metadata": {
        "id": "ceI-Qm0tZNG4"
      },
      "execution_count": 17,
      "outputs": []
    },
    {
      "cell_type": "code",
      "source": [
        "print(\"UTR:\")\n",
        "At_UTR = np.reshape(result_UTR.x, (4,4))\n",
        "print(At_UTR.round(2))\n",
        "print(\"lncRNA:\")\n",
        "At_lnc = np.reshape(result_lnc.x, (4,4))\n",
        "print(At_lnc.round(2))"
      ],
      "metadata": {
        "colab": {
          "base_uri": "https://localhost:8080/"
        },
        "id": "vLTW8EVJjX5S",
        "outputId": "0cfb82ed-85dc-46cc-9257-91395fb152c9"
      },
      "execution_count": 18,
      "outputs": [
        {
          "output_type": "stream",
          "name": "stdout",
          "text": [
            "UTR:\n",
            "[[0.76 0.06 0.12 0.06]\n",
            " [0.1  0.63 0.06 0.22]\n",
            " [0.21 0.06 0.63 0.09]\n",
            " [0.07 0.13 0.05 0.75]]\n",
            "lncRNA:\n",
            "[[0.76 0.05 0.12 0.07]\n",
            " [0.1  0.61 0.05 0.24]\n",
            " [0.23 0.05 0.62 0.1 ]\n",
            " [0.07 0.12 0.05 0.77]]\n"
          ]
        }
      ]
    }
  ]
}